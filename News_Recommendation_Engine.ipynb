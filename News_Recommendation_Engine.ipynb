{
 "cells": [
  {
   "cell_type": "markdown",
   "metadata": {},
   "source": [
    "### Collaborartive Filtering on News Documents using Neo4j Graph Data Science"
   ]
  },
  {
   "cell_type": "markdown",
   "metadata": {},
   "source": [
    "In this notebook we explore how to get started with practical & scalable recommendation in graph. We will walk through a fundamental example with news recommendation on dataset containing 17.5 Million click events and around 750K users. We will leverage Neo4j and the Graph Data Science (GDS) library to quickly predict similar news based on user preferences and enable sub-second, rank-ordered, recommendation queries personalized to each user."
   ]
  },
  {
   "cell_type": "code",
   "execution_count": 1,
   "metadata": {},
   "outputs": [],
   "source": [
    "from neo4j import GraphDatabase\n",
    "import pandas as pd\n",
    "import numpy as np\n",
    "import configparser\n",
    "import os\n",
    "from sklearn.manifold import TSNE\n",
    "import matplotlib.pyplot as plt\n",
    "import altair as alt\n",
    "pd.set_option('display.width', 0)\n",
    "pd.set_option('display.max_colwidth', 500)\n",
    "pd.set_option('display.max_rows', 12)"
   ]
  },
  {
   "cell_type": "code",
   "execution_count": 2,
   "metadata": {},
   "outputs": [],
   "source": [
    "NEO4J_PROPERTIES_FILE = 'None'"
   ]
  },
  {
   "cell_type": "code",
   "execution_count": 3,
   "metadata": {},
   "outputs": [
    {
     "name": "stdout",
     "output_type": "stream",
     "text": [
      "Could not find database properties file, using defaults\n"
     ]
    }
   ],
   "source": [
    "HOST = 'neo4j://localhost'\n",
    "DATABASE = 'neo4j'\n",
    "PASSWORD = 'MIND'\n",
    "\n",
    "if NEO4J_PROPERTIES_FILE is not None and os.path.exists(NEO4J_PROPERTIES_FILE):\n",
    "    config = configparser.RawConfigParser()\n",
    "    config.read(NEO4J_PROPERTIES_FILE)\n",
    "    HOST = config['NEO4J']['HOST']\n",
    "    DATABASE = config['NEO4J']['DATABASE']\n",
    "    PASSWORD = config['NEO4J']['PASSWORD']\n",
    "    print('Using custom database properties')\n",
    "else:\n",
    "    print('Could not find database properties file, using defaults')"
   ]
  },
  {
   "cell_type": "code",
   "execution_count": 4,
   "metadata": {},
   "outputs": [],
   "source": [
    "driver = GraphDatabase.driver(HOST,auth=(DATABASE,PASSWORD))"
   ]
  },
  {
   "cell_type": "markdown",
   "metadata": {},
   "source": [
    "### Helper Functions"
   ]
  },
  {
   "cell_type": "code",
   "execution_count": 5,
   "metadata": {},
   "outputs": [],
   "source": [
    "class GraphQueryError(Exception):\n",
    "    def __init__(self,message):\n",
    "        self.message = message\n",
    "    \n",
    "def run(driver,query,params=None):\n",
    "    with driver.session() as session:\n",
    "        if params is not None:\n",
    "            return [r for r in session.run(query,params)]\n",
    "        else:\n",
    "            return [r for r in session.run(query)]\n",
    "\n",
    "def clear_graph(driver,graph_name):\n",
    "    if run(driver,f\"CALL gds.graph.exists('{graph_name}') YIELD exists RETURN exists\")[0].get(\"exists\"):\n",
    "        run(driver, f\"CALL gds.graph.drop('{graph_name}')\")\n",
    "\n",
    "def degree_counts(driver,node_label,relationship_type,direction='BOTH'):\n",
    "    dr = direction.upper()\n",
    "    if dr not in {'BOTH','IN','OUT'}:\n",
    "        raise GraphQueryError(f\"direction must be one of {{'BOTH', 'IN', 'OUT'}}, but got {dr}\")\n",
    "    \n",
    "    pattern = f'(n)<-[:{relationship_type}]-()'\n",
    "\n",
    "    if dr == 'BOTH':\n",
    "        pattern = f'(n)-[:{relationship_type}]-()'\n",
    "    elif dr == 'OUT':\n",
    "        pattern = f'(n)-[:{relationship_type}]->()'\n",
    "\n",
    "    results = run(driver,f'''MATCH (n:{node_label}) WITH id(n) as nodeIds, size({pattern}) AS degree\n",
    "            RETURN degree, count(degree) AS degreeCount ORDER BY degree''')\n",
    "    df = pd.DataFrame([dict(record) for record in results])\n",
    "    df['csum'] = df.degreeCount.cumsum()\n",
    "    n = df.degreeCount.sum()\n",
    "    df['percentile'] = df.csum/n\n",
    "    \n",
    "    return df.drop(columns=['csum'])\n",
    "\n",
    "def get_percentile(df,q=None):\n",
    "    if q is None:\n",
    "        q = [0.1,0.25, 0.5, 0.75, 0.9, 0.95, 0.99]\n",
    "    q_name = ['min'] + [f'p{int(100*i)}' for i in q] + ['max']\n",
    "    p = [df.degree.min()] + [df.degree[df.percentile >= i].iloc[0] for i in q] + [df.degree.max()]\n",
    "    p_df = pd.DataFrame(np.column_stack((q_name, p)), columns=['q', 'percentile'])\n",
    "    return p_df.set_index('q')"
   ]
  },
  {
   "cell_type": "markdown",
   "metadata": {},
   "source": [
    "### Dataset - MIcrosoft News Dataset (MIND) "
   ]
  },
  {
   "cell_type": "markdown",
   "metadata": {},
   "source": [
    "This dataset is a sample of 1 million anonymized users and their click behaviors collected from the Microsoft News website. It includes about 15M impressions logs for about 160K English News articles. I formatted the dataset and loaded into a graph with the below schema.\n",
    "\n",
    "\n",
    "We see that news articles are modeled as nodes and can can be \"clicked\" or \"historically clicked\" by users which are also modeled as nodes. In this context, \"clicked\" refers to a click action parsed from an impression record occurring over the time interval of our sample, approx. 2019 November 9th through 2019 November 15th. \"historically clicked\" refers to a click action from user history, occurring in some unknown time in the past."
   ]
  },
  {
   "cell_type": "markdown",
   "metadata": {},
   "source": [
    "Additionally, News also have subcategories and categories that were annotated by Microsoft as well as WikiData entities that Microsoft extracted from news titles and abstracts using NLP methods. I modeled these with nodes and relationships in the graph as well. These will be useful for extended analysis, but we will not be using them in this example. Our primary interest here is to get started with users and their click events to derive recommendations."
   ]
  },
  {
   "cell_type": "markdown",
   "metadata": {},
   "source": [
    "### Graph Data Profiling"
   ]
  },
  {
   "cell_type": "markdown",
   "metadata": {},
   "source": [
    "Before diving right into into analysis, it is helpful to inspect some high level statistics of graph to get a better sense of size and connectivity."
   ]
  },
  {
   "cell_type": "markdown",
   "metadata": {},
   "source": [
    "#### Aggregate Counts"
   ]
  },
  {
   "cell_type": "markdown",
   "metadata": {},
   "source": [
    "Let's start with high node and relationships counts. These functions assume APOC is installed on your Neo4j DB."
   ]
  },
  {
   "cell_type": "code",
   "execution_count": 6,
   "metadata": {},
   "outputs": [
    {
     "data": {
      "text/html": [
       "<div>\n",
       "<style scoped>\n",
       "    .dataframe tbody tr th:only-of-type {\n",
       "        vertical-align: middle;\n",
       "    }\n",
       "\n",
       "    .dataframe tbody tr th {\n",
       "        vertical-align: top;\n",
       "    }\n",
       "\n",
       "    .dataframe thead th {\n",
       "        text-align: right;\n",
       "    }\n",
       "</style>\n",
       "<table border=\"1\" class=\"dataframe\">\n",
       "  <thead>\n",
       "    <tr style=\"text-align: right;\">\n",
       "      <th></th>\n",
       "      <th>User</th>\n",
       "      <th>News</th>\n",
       "    </tr>\n",
       "  </thead>\n",
       "  <tbody>\n",
       "    <tr>\n",
       "      <th>nodeCounts</th>\n",
       "      <td>750434</td>\n",
       "      <td>104151</td>\n",
       "    </tr>\n",
       "  </tbody>\n",
       "</table>\n",
       "</div>"
      ],
      "text/plain": [
       "              User    News\n",
       "nodeCounts  750434  104151"
      ]
     },
     "execution_count": 6,
     "metadata": {},
     "output_type": "execute_result"
    }
   ],
   "source": [
    "# total nodes\n",
    "result = run(driver,\"CALL apoc.meta.stats() YIELD labels AS nodeCounts\")\n",
    "\n",
    "pd.DataFrame(dict(result[0])).transpose()[['User','News']]"
   ]
  },
  {
   "cell_type": "code",
   "execution_count": 7,
   "metadata": {},
   "outputs": [
    {
     "data": {
      "text/html": [
       "<div>\n",
       "<style scoped>\n",
       "    .dataframe tbody tr th:only-of-type {\n",
       "        vertical-align: middle;\n",
       "    }\n",
       "\n",
       "    .dataframe tbody tr th {\n",
       "        vertical-align: top;\n",
       "    }\n",
       "\n",
       "    .dataframe thead th {\n",
       "        text-align: right;\n",
       "    }\n",
       "</style>\n",
       "<table border=\"1\" class=\"dataframe\">\n",
       "  <thead>\n",
       "    <tr style=\"text-align: right;\">\n",
       "      <th></th>\n",
       "      <th>User</th>\n",
       "      <th>News</th>\n",
       "      <th>Category</th>\n",
       "      <th>Subcategory</th>\n",
       "      <th>WikiEntity</th>\n",
       "    </tr>\n",
       "  </thead>\n",
       "  <tbody>\n",
       "    <tr>\n",
       "      <th>nodeCounts</th>\n",
       "      <td>750434</td>\n",
       "      <td>104151</td>\n",
       "      <td>18</td>\n",
       "      <td>308</td>\n",
       "      <td>44065</td>\n",
       "    </tr>\n",
       "  </tbody>\n",
       "</table>\n",
       "</div>"
      ],
      "text/plain": [
       "              User    News  Category  Subcategory  WikiEntity\n",
       "nodeCounts  750434  104151        18          308       44065"
      ]
     },
     "execution_count": 7,
     "metadata": {},
     "output_type": "execute_result"
    }
   ],
   "source": [
    "# total nodes - nodeCounts in neo4j\n",
    "result = run(driver,\"CALL apoc.meta.stats() YIELD labels AS nodeCounts\")\n",
    "\n",
    "pd.DataFrame(dict(result[0])).transpose()[['User','News','Category','Subcategory','WikiEntity']]"
   ]
  },
  {
   "cell_type": "code",
   "execution_count": 8,
   "metadata": {},
   "outputs": [
    {
     "data": {
      "text/html": [
       "<div>\n",
       "<style scoped>\n",
       "    .dataframe tbody tr th:only-of-type {\n",
       "        vertical-align: middle;\n",
       "    }\n",
       "\n",
       "    .dataframe tbody tr th {\n",
       "        vertical-align: top;\n",
       "    }\n",
       "\n",
       "    .dataframe thead th {\n",
       "        text-align: right;\n",
       "    }\n",
       "</style>\n",
       "<table border=\"1\" class=\"dataframe\">\n",
       "  <thead>\n",
       "    <tr style=\"text-align: right;\">\n",
       "      <th></th>\n",
       "      <th>CLICKED</th>\n",
       "      <th>HISTORICALLY_CLICKED</th>\n",
       "    </tr>\n",
       "  </thead>\n",
       "  <tbody>\n",
       "    <tr>\n",
       "      <th>relationshipCounts</th>\n",
       "      <td>3958501</td>\n",
       "      <td>13580648</td>\n",
       "    </tr>\n",
       "  </tbody>\n",
       "</table>\n",
       "</div>"
      ],
      "text/plain": [
       "                    CLICKED  HISTORICALLY_CLICKED\n",
       "relationshipCounts  3958501              13580648"
      ]
     },
     "execution_count": 8,
     "metadata": {},
     "output_type": "execute_result"
    }
   ],
   "source": [
    "# total relationship counts - relationshipCounts in neo4j\n",
    "\n",
    "result = run(driver,\"CALL apoc.meta.stats() YIELD relTypesCount AS relationshipCounts\")\n",
    "\n",
    "pd.DataFrame(dict(result[0])).transpose()[['CLICKED','HISTORICALLY_CLICKED']]"
   ]
  },
  {
   "cell_type": "markdown",
   "metadata": {},
   "source": [
    "As far as search recommendation concerned, this is a relatively a modestly sized graph, with only around 750K users, 100k news articles, and around 17.5 M total click events. These numbers are smaller than the totals reported for MIND Large because some of the original dataset was set aside by Microsoft as a test set for competition evaluation and therefore doesn't have complete impression information. That part of the data was excluded from this graph."
   ]
  },
  {
   "cell_type": "markdown",
   "metadata": {},
   "source": [
    "### Click Event Distributions\n",
    "\n",
    "Next, we can look at the distribution of clicks per user. It is helpful to check this distribution to make sure that:\n",
    "\n",
    "1. The graph is reasonably well connected as the quality of our upcoming recommendation technique will depend on a reasonably well connected graph.\n",
    "2. We do not have any large supernodes, i.e. nodes with very high numbers of relationships. What qualifies as a supernode varies greatly by use case. For this, I would be concerned about users with tens of thousands of clicks."
   ]
  },
  {
   "cell_type": "code",
   "execution_count": 9,
   "metadata": {},
   "outputs": [
    {
     "data": {
      "image/png": "[encoded data removed]",
      "text/plain": [
       "<Figure size 1152x360 with 2 Axes>"
      ]
     },
     "metadata": {
      "needs_background": "light"
     },
     "output_type": "display_data"
    }
   ],
   "source": [
    "all_clicks_df = degree_counts(driver,'User','CLICKED|HISTORICALLY_CLICKED','OUT')\n",
    "\n",
    "recent_clicks_df = degree_counts(driver,'User','CLICKED','OUT')\n",
    "\n",
    "f, axs = plt.subplots(1,2,figsize=(16,5))\n",
    "\n",
    "axs[0].bar(all_clicks_df.degree[:80], all_clicks_df.degreeCount[:80], width=1)\n",
    "axs[0].set_title('User Total Clicks Distribution')\n",
    "axs[0].set_ylabel('User Count')\n",
    "axs[0].set_xlabel('Number of Total Clicks')\n",
    "plt.figtext(0.4, 0.5, get_percentile(all_clicks_df).to_string())\n",
    "\n",
    "axs[1].bar(recent_clicks_df.degree[:80], recent_clicks_df.degreeCount[:80], width=1)\n",
    "axs[1].set_title('User Recent Clicks Distribution')\n",
    "axs[1].set_ylabel('User Count')\n",
    "axs[1].set_xlabel('Number of Recent Clicks')\n",
    "plt.figtext(0.83, 0.5, get_percentile(recent_clicks_df).to_string())\n",
    "\n",
    "plt.show()"
   ]
  },
  {
   "cell_type": "markdown",
   "metadata": {},
   "source": [
    "The above shows the distributions for total clicks (CLICKED and HISTORICALLY_CLICKED) as well as recent clicks (just CLICKED) by user. We see that the distributions have heavy left tails, showing that activity is not uniformly distributed among users, but rather there is relatively small fraction of users that account for a large number of clicks. This is somewhat expected. Importantly every user has at least one recent click event, and we do not see users with upwards of tens of thousands of click events.\n",
    "\n",
    "We can do a similar breakdown for News below."
   ]
  },
  {
   "cell_type": "code",
   "execution_count": 10,
   "metadata": {},
   "outputs": [
    {
     "data": {
      "image/png": "[encoded data removed]",
      "text/plain": [
       "<Figure size 1152x360 with 2 Axes>"
      ]
     },
     "metadata": {
      "needs_background": "light"
     },
     "output_type": "display_data"
    }
   ],
   "source": [
    "all_clicks_df = degree_counts(driver, 'News', 'CLICKED|HISTORICALLY_CLICKED', 'IN')\n",
    "recent_clicks_df = degree_counts(driver, 'News', 'CLICKED', 'IN')\n",
    "\n",
    "f, axs = plt.subplots(1,2,figsize=(16,5))\n",
    "\n",
    "axs[0].bar(all_clicks_df.degree[:80], all_clicks_df.degreeCount[:80], width=1)\n",
    "axs[0].set_title('News Total Clicks Distribution')\n",
    "axs[0].set_ylabel('News Count')\n",
    "axs[0].set_xlabel('Number of Total Clicks')\n",
    "\n",
    "\n",
    "axs[1].bar(recent_clicks_df.degree[:80], recent_clicks_df.degreeCount[:80], width=1)\n",
    "axs[1].set_title('News Recent Clicks Distribution')\n",
    "axs[1].set_ylabel('News Count')\n",
    "axs[1].set_xlabel('Number of Recent Clicks')\n",
    "plt.figtext(0.83, 0.5, get_percentile(recent_clicks_df).to_string())\n",
    "\n",
    "plt.show()"
   ]
  },
  {
   "cell_type": "markdown",
   "metadata": {},
   "source": [
    "While news looks okay for total clicks, only a small portion of news (<25%) was recently clicked, i.e. actually clicked on by users in the time window of our sample. News that was not clicked within the time window may not be good candidates for recommendation in this context. We will deal with this below."
   ]
  },
  {
   "cell_type": "markdown",
   "metadata": {},
   "source": [
    "### Labeling Recent News\n",
    "\n",
    "To ensure CF recommendations are relevant we need to filter down to a subset of news articles for consideration.\n",
    "\n",
    "1. News tends to be most relevant when it is recent and can lose relevance quickly with the passage of time. As general rule, good news recommenders should avoid stale and/or outdated news. In this case we can use Microsoft impressions as a proxy and only consider news articles that were included in an impression within our sample time window. To accomplish this, we can use a node attribute called approxTime, that reflects the minimum impression time for the news article. I calculated this attribute when loading the source data into Neo4j. Long story short, approxTime will only be non-null for news articles with at least one impression in our sample."
   ]
  },
  {
   "cell_type": "markdown",
   "metadata": {},
   "source": [
    "\n",
    "2. A limitation of CF is that it can only recommend content with user feedback. As such, news articles with no user clicks cannot be used for CF here. In industry, this is sometimes referred to as a cold-start) problem. It can be resolved with content based recommendation and other hybrid approaches. We may cover this in a separate post, but for this example we only consider news articles with at least one user clicks, i.e. at least one CLICKED or HISTORICALLY_CLICKED relationship."
   ]
  },
  {
   "cell_type": "markdown",
   "metadata": {},
   "source": [
    "We can assign a second node label, RecentNews to allow us to easily filter to news that meet the above criteria in cypher queries and GDS projections. Remember that Neo4j allows a node to have multiple labels, so the original News label will still be retained."
   ]
  },
  {
   "cell_type": "code",
   "execution_count": 11,
   "metadata": {},
   "outputs": [
    {
     "data": {
      "text/plain": [
       "[<Record count(DISTINCT n)=21858>]"
      ]
     },
     "execution_count": 11,
     "metadata": {},
     "output_type": "execute_result"
    }
   ],
   "source": [
    "run(driver,''' \n",
    "    MATCH(n:News)<-[:CLICKED|HISTORICALLY_CLICKED]-() WHERE n.approxTime IS NOT NULL\n",
    "    SET n:RecentNews\n",
    "    RETURN count(DISTINCT n)\n",
    "    ''')"
   ]
  },
  {
   "cell_type": "markdown",
   "metadata": {},
   "source": [
    "We do see a significant reduction in the number of News Articles, from 104K to about 22K. But being more recent and well connected, this news is also likely to be more relevant, so we should be able to improve our recommender by narrowing the focus to these news articles. We can also see these improvements reflected in the click distributions."
   ]
  },
  {
   "cell_type": "code",
   "execution_count": 12,
   "metadata": {},
   "outputs": [
    {
     "data": {
      "text/plain": [
       "Text(0.83, 0.5, '    percentile\\nq             \\nmin          0\\np10          0\\np25          1\\np50          4\\np75         19\\np90        202\\np95        661\\np99       3462\\nmax      60638')"
      ]
     },
     "execution_count": 12,
     "metadata": {},
     "output_type": "execute_result"
    },
    {
     "data": {
      "image/png": "[encoded data removed]",
      "text/plain": [
       "<Figure size 1152x360 with 2 Axes>"
      ]
     },
     "metadata": {
      "needs_background": "light"
     },
     "output_type": "display_data"
    }
   ],
   "source": [
    "all_clicks_df = degree_counts(driver, 'RecentNews', 'CLICKED|HISTORICALLY_CLICKED', 'IN')\n",
    "recent_clicks_df = degree_counts(driver, 'RecentNews', 'CLICKED', 'IN')\n",
    "\n",
    "f, axs = plt.subplots(1,2,figsize=(16,5))\n",
    "\n",
    "axs[0].bar(all_clicks_df.degree[:80], all_clicks_df.degreeCount[:80], width=1)\n",
    "axs[0].set_title('Total Clicks Distribution')\n",
    "axs[0].set_ylabel('News Count')\n",
    "axs[0].set_xlabel('Number of Total Clicks')\n",
    "plt.figtext(0.4, 0.5, get_percentile(all_clicks_df).to_string())\n",
    "\n",
    "\n",
    "axs[1].bar(recent_clicks_df.degree[:80], recent_clicks_df.degreeCount[:80], width=1)\n",
    "axs[1].set_title('Recent Clicks Distribution')\n",
    "axs[1].set_ylabel('News Count')\n",
    "axs[1].set_xlabel('Number of Recent Clicks')\n",
    "plt.figtext(0.83, 0.5, get_percentile(recent_clicks_df).to_string())\n"
   ]
  },
  {
   "cell_type": "markdown",
   "metadata": {},
   "source": [
    "We can see now that every news article was clicked at least once, and at least 75% of the news articles have been recently clicked."
   ]
  },
  {
   "cell_type": "markdown",
   "metadata": {},
   "source": [
    "### Collaborative Filtering (CF)\n",
    "\n",
    "There are many different types of recommendations systems. In this example we will apply a technique called Collaborative Filtering (CF), which is the practice of automatically predicting a user's preferences based on the actions of similar users."
   ]
  },
  {
   "cell_type": "markdown",
   "metadata": {},
   "source": [
    "### User Vs Item based CF\n",
    "\n",
    "Roughly speaking there are two main classes of collaborative filtering"
   ]
  },
  {
   "cell_type": "markdown",
   "metadata": {},
   "source": [
    "1. User-based, which is focuses on directly calculating similarity between users based on their interaction with items"
   ]
  },
  {
   "cell_type": "markdown",
   "metadata": {},
   "source": [
    "2. Item-based, which measures the similarity between pairs of items based on correlated user activity, such as the same users liking, viewing, rating, or otherwise similarly interacting with items"
   ]
  },
  {
   "cell_type": "markdown",
   "metadata": {},
   "source": [
    "Our approach today will focus on the later, item-based CF. Item-based CF will be more manageable and scalable then user-based CF for many problem domains. There are a couple reasons for this. First, because there are way fewer items then users in most applied cases so there are less entities to compare. Second, and perhaps more importantly, User preferences can also be dynamic and change overtime. For example, in a Movie example, a user could be mostly interested in Sci Fi movies but go through a brief stint in Westerns, and making recommendations for Westerns to other Sci Fi fans who historically viewed the same things may not be the best thing. Often the best indicator of a user's current interest is their most recent activity, and item based filtering gives you better flexibility to find similarities based off the most recent item(s) clicked, viewed, rated, etc."
   ]
  },
  {
   "cell_type": "markdown",
   "metadata": {},
   "source": [
    "### Implicit Collaborative Filtering"
   ]
  },
  {
   "cell_type": "markdown",
   "metadata": {},
   "source": [
    "We usually hear about collaborative filtering in the context of explicit user feedback such as reviews for movies or products in an online store. In this example, we will apply collaborative filtering to just the News click activity, i.e. 1 for a click, implying that the user \"likes\" a piece of content and 0 otherwise. This is a basic form of \"implicit collaborative filtering\" where a users preferences are implied based on their activity rather than in explicit feedback. The need for implicit CF comes up frequently as many real-world scenarios will not have explicit ratings, or if they do they will very sparsely populated. In a production setting, you may also want to incorporate other user activity data points to help weight the graph relationships such as read/view time, scroll-depth, etc. which are not publically made available in the MIND dataset. The more information you have, the more accurately you will be able to model user preferences."
   ]
  },
  {
   "cell_type": "markdown",
   "metadata": {},
   "source": [
    "### Basic Cypher Queries for CF"
   ]
  },
  {
   "cell_type": "markdown",
   "metadata": {},
   "source": [
    "From here we could try just using Cypher to accomplish basic Collaborative Filtering. For example, take the below user and the news they clicked. You can see a mixed interest between autos, finance, US news, and a couple other categories."
   ]
  },
  {
   "cell_type": "code",
   "execution_count": 13,
   "metadata": {},
   "outputs": [],
   "source": [
    "USER_ID = 'U218584'"
   ]
  },
  {
   "cell_type": "code",
   "execution_count": 14,
   "metadata": {},
   "outputs": [
    {
     "data": {
      "text/html": [
       "<div>\n",
       "<style scoped>\n",
       "    .dataframe tbody tr th:only-of-type {\n",
       "        vertical-align: middle;\n",
       "    }\n",
       "\n",
       "    .dataframe tbody tr th {\n",
       "        vertical-align: top;\n",
       "    }\n",
       "\n",
       "    .dataframe thead th {\n",
       "        text-align: right;\n",
       "    }\n",
       "</style>\n",
       "<table border=\"1\" class=\"dataframe\">\n",
       "  <thead>\n",
       "    <tr style=\"text-align: right;\">\n",
       "      <th></th>\n",
       "      <th>newsId</th>\n",
       "      <th>title</th>\n",
       "      <th>abstract</th>\n",
       "      <th>category</th>\n",
       "      <th>subcategory</th>\n",
       "      <th>impressionTime</th>\n",
       "      <th>clickType</th>\n",
       "    </tr>\n",
       "  </thead>\n",
       "  <tbody>\n",
       "    <tr>\n",
       "      <th>0</th>\n",
       "      <td>N110709</td>\n",
       "      <td>2020 Ford Mustang Shelby GT350 vs. GT500: Which Is the Better Sports Car?</td>\n",
       "      <td>Is the $12,460 more costly GT500 a better sports car than the already great GT350?</td>\n",
       "      <td>autos</td>\n",
       "      <td>autosenthusiasts</td>\n",
       "      <td>2019-11-15T05:48:40.000000000+00:00</td>\n",
       "      <td>CLICKED</td>\n",
       "    </tr>\n",
       "    <tr>\n",
       "      <th>1</th>\n",
       "      <td>N29544</td>\n",
       "      <td>Walmart releases Black Friday ad with $129 Apple Watch, TV deals, electronics doorbusters</td>\n",
       "      <td>Walmart's Black Friday 2019 ad includes a 40-inch TV for $98, Apple iPad for $249, Xbox One, Playstation 4, deals on toys, Instant Pot and more.</td>\n",
       "      <td>finance</td>\n",
       "      <td>finance-companies</td>\n",
       "      <td>2019-11-14T08:39:30.000000000+00:00</td>\n",
       "      <td>CLICKED</td>\n",
       "    </tr>\n",
       "    <tr>\n",
       "      <th>2</th>\n",
       "      <td>N30899</td>\n",
       "      <td>College gymnast dies following training accident in Connecticut</td>\n",
       "      <td>Melanie Coleman, 20, of Milford, was practicing on the bars when she suffered a spinal cord injury.</td>\n",
       "      <td>news</td>\n",
       "      <td>newsus</td>\n",
       "      <td>2019-11-12T08:39:20.000000000+00:00</td>\n",
       "      <td>CLICKED</td>\n",
       "    </tr>\n",
       "    <tr>\n",
       "      <th>3</th>\n",
       "      <td>N83412</td>\n",
       "      <td>Hannah Brown on Being Surrounded By Exes Tyler Cameron and Colton Underwood</td>\n",
       "      <td>ET spoke with the former Bachelorette after 'Dancing With the Stars' on Monday.</td>\n",
       "      <td>tv</td>\n",
       "      <td>tv-celebrity</td>\n",
       "      <td>2019-11-12T05:53:44.000000000+00:00</td>\n",
       "      <td>CLICKED</td>\n",
       "    </tr>\n",
       "    <tr>\n",
       "      <th>4</th>\n",
       "      <td>N60088</td>\n",
       "      <td>2020 Ford Bronco: Everything we know about Ford's new SUV</td>\n",
       "      <td>It's only a matter of time until Ford pulls back the veil.</td>\n",
       "      <td>autos</td>\n",
       "      <td>autossuvs</td>\n",
       "      <td>2019-11-11T10:10:49.000000000+00:00</td>\n",
       "      <td>CLICKED</td>\n",
       "    </tr>\n",
       "    <tr>\n",
       "      <th>5</th>\n",
       "      <td>N64797</td>\n",
       "      <td>Off-Road Diesel Truck Showdown: GMC Sierra 1500 AT4 vs. Ram 1500 Rebel</td>\n",
       "      <td>Does GMC or Ram build the best jack-of-all-trades pickup?</td>\n",
       "      <td>autos</td>\n",
       "      <td>autostrucks</td>\n",
       "      <td>2019-11-11T10:10:49.000000000+00:00</td>\n",
       "      <td>CLICKED</td>\n",
       "    </tr>\n",
       "    <tr>\n",
       "      <th>6</th>\n",
       "      <td>N86208</td>\n",
       "      <td>17 photos that show the ugly truth of living in a tiny house</td>\n",
       "      <td>From cramped lofts that are hard to access to small appliances, this is what it's really like to live in a tiny house.</td>\n",
       "      <td>lifestyle</td>\n",
       "      <td>lifestylehomeandgarden</td>\n",
       "      <td>None</td>\n",
       "      <td>HISTORICALLY_CLICKED</td>\n",
       "    </tr>\n",
       "    <tr>\n",
       "      <th>7</th>\n",
       "      <td>N59565</td>\n",
       "      <td>10 Exercises You Should Never Do Again, According to Trainers</td>\n",
       "      <td>Newsflash: Some moves (and exercise machines) don't actually do that much for you   and some can be downright dangerous.</td>\n",
       "      <td>health</td>\n",
       "      <td>fitness</td>\n",
       "      <td>None</td>\n",
       "      <td>HISTORICALLY_CLICKED</td>\n",
       "    </tr>\n",
       "    <tr>\n",
       "      <th>8</th>\n",
       "      <td>N108707</td>\n",
       "      <td>Rivian R1S and R1T: Everything We Know</td>\n",
       "      <td>The Plymouth, Michigan startup quickly became one of the hottest things in the automotive world. Here's what to expect from its first two cars.</td>\n",
       "      <td>autos</td>\n",
       "      <td>autosnews</td>\n",
       "      <td>None</td>\n",
       "      <td>HISTORICALLY_CLICKED</td>\n",
       "    </tr>\n",
       "  </tbody>\n",
       "</table>\n",
       "</div>"
      ],
      "text/plain": [
       "    newsId  \\\n",
       "0  N110709   \n",
       "1   N29544   \n",
       "2   N30899   \n",
       "3   N83412   \n",
       "4   N60088   \n",
       "5   N64797   \n",
       "6   N86208   \n",
       "7   N59565   \n",
       "8  N108707   \n",
       "\n",
       "                                                                                       title  \\\n",
       "0                  2020 Ford Mustang Shelby GT350 vs. GT500: Which Is the Better Sports Car?   \n",
       "1  Walmart releases Black Friday ad with $129 Apple Watch, TV deals, electronics doorbusters   \n",
       "2                            College gymnast dies following training accident in Connecticut   \n",
       "3                Hannah Brown on Being Surrounded By Exes Tyler Cameron and Colton Underwood   \n",
       "4                                  2020 Ford Bronco: Everything we know about Ford's new SUV   \n",
       "5                     Off-Road Diesel Truck Showdown: GMC Sierra 1500 AT4 vs. Ram 1500 Rebel   \n",
       "6                               17 photos that show the ugly truth of living in a tiny house   \n",
       "7                              10 Exercises You Should Never Do Again, According to Trainers   \n",
       "8                                                     Rivian R1S and R1T: Everything We Know   \n",
       "\n",
       "                                                                                                                                           abstract  \\\n",
       "0                                                                Is the $12,460 more costly GT500 a better sports car than the already great GT350?   \n",
       "1  Walmart's Black Friday 2019 ad includes a 40-inch TV for $98, Apple iPad for $249, Xbox One, Playstation 4, deals on toys, Instant Pot and more.   \n",
       "2                                               Melanie Coleman, 20, of Milford, was practicing on the bars when she suffered a spinal cord injury.   \n",
       "3                                                                   ET spoke with the former Bachelorette after 'Dancing With the Stars' on Monday.   \n",
       "4                                                                                        It's only a matter of time until Ford pulls back the veil.   \n",
       "5                                                                                         Does GMC or Ram build the best jack-of-all-trades pickup?   \n",
       "6                            From cramped lofts that are hard to access to small appliances, this is what it's really like to live in a tiny house.   \n",
       "7                          Newsflash: Some moves (and exercise machines) don't actually do that much for you   and some can be downright dangerous.   \n",
       "8   The Plymouth, Michigan startup quickly became one of the hottest things in the automotive world. Here's what to expect from its first two cars.   \n",
       "\n",
       "    category             subcategory                       impressionTime  \\\n",
       "0      autos        autosenthusiasts  2019-11-15T05:48:40.000000000+00:00   \n",
       "1    finance       finance-companies  2019-11-14T08:39:30.000000000+00:00   \n",
       "2       news                  newsus  2019-11-12T08:39:20.000000000+00:00   \n",
       "3         tv            tv-celebrity  2019-11-12T05:53:44.000000000+00:00   \n",
       "4      autos               autossuvs  2019-11-11T10:10:49.000000000+00:00   \n",
       "5      autos             autostrucks  2019-11-11T10:10:49.000000000+00:00   \n",
       "6  lifestyle  lifestylehomeandgarden                                 None   \n",
       "7     health                 fitness                                 None   \n",
       "8      autos               autosnews                                 None   \n",
       "\n",
       "              clickType  \n",
       "0               CLICKED  \n",
       "1               CLICKED  \n",
       "2               CLICKED  \n",
       "3               CLICKED  \n",
       "4               CLICKED  \n",
       "5               CLICKED  \n",
       "6  HISTORICALLY_CLICKED  \n",
       "7  HISTORICALLY_CLICKED  \n",
       "8  HISTORICALLY_CLICKED  "
      ]
     },
     "execution_count": 14,
     "metadata": {},
     "output_type": "execute_result"
    }
   ],
   "source": [
    "result = run(driver,'''\n",
    "            MATCH (u1:User{userId:$userId})-[r1:CLICKED|HISTORICALLY_CLICKED]->(n1:RecentNews)\n",
    "            RETURN n1.newsId AS newsId,\n",
    "            n1.title AS title,\n",
    "            n1.abstract AS abstract,\n",
    "            n1.category AS category,\n",
    "            n1.subcategory As subcategory,\n",
    "            r1.impressionTime AS impressionTime,\n",
    "            type(r1) AS clickType\n",
    "            ORDER BY clickType, impressionTime DESC\n",
    "            ''',params = {'userId':USER_ID})\n",
    "\n",
    "pd.DataFrame([dict(record) for record in result])"
   ]
  },
  {
   "cell_type": "markdown",
   "metadata": {},
   "source": [
    "Assuming we can measure the similarity of user interests via commonly clicked news articles, we can do a three hop query to find potential recommendations for user U218584 based on the activity of users that clicked on the same news as U218584."
   ]
  },
  {
   "cell_type": "code",
   "execution_count": 15,
   "metadata": {},
   "outputs": [
    {
     "data": {
      "text/html": [
       "<div>\n",
       "<style scoped>\n",
       "    .dataframe tbody tr th:only-of-type {\n",
       "        vertical-align: middle;\n",
       "    }\n",
       "\n",
       "    .dataframe tbody tr th {\n",
       "        vertical-align: top;\n",
       "    }\n",
       "\n",
       "    .dataframe thead th {\n",
       "        text-align: right;\n",
       "    }\n",
       "</style>\n",
       "<table border=\"1\" class=\"dataframe\">\n",
       "  <thead>\n",
       "    <tr style=\"text-align: right;\">\n",
       "      <th></th>\n",
       "      <th>userId</th>\n",
       "      <th>clickedNews</th>\n",
       "      <th>likeUsers</th>\n",
       "      <th>potentialRecommendations</th>\n",
       "    </tr>\n",
       "  </thead>\n",
       "  <tbody>\n",
       "    <tr>\n",
       "      <th>0</th>\n",
       "      <td>U218584</td>\n",
       "      <td>6</td>\n",
       "      <td>63019</td>\n",
       "      <td>10998</td>\n",
       "    </tr>\n",
       "  </tbody>\n",
       "</table>\n",
       "</div>"
      ],
      "text/plain": [
       "    userId  clickedNews  likeUsers  potentialRecommendations\n",
       "0  U218584            6      63019                     10998"
      ]
     },
     "execution_count": 15,
     "metadata": {},
     "output_type": "execute_result"
    }
   ],
   "source": [
    "result = run(driver,'''\n",
    "            MATCH (u1:User{userId:$userId})-[r1:CLICKED]->(n1:RecentNews)<-[r2:CLICKED]-(u2:User)-[r3:CLICKED]->(n2:RecentNews)\n",
    "            RETURN u1.userId AS userId,\n",
    "            count (DISTINCT n1) AS clickedNews,\n",
    "            count(DISTINCT u2) AS likeUsers,\n",
    "            count(DISTINCT n2) AS potentialRecommendations\n",
    "            ''',params={'userId':USER_ID}\n",
    "            )\n",
    "\n",
    "pd.DataFrame([dict(record) for record in result])"
   ]
  },
  {
   "cell_type": "markdown",
   "metadata": {},
   "source": [
    "While the above can work well in some cases, and while it can certainly be a massive improvement from joining SQL tables or cross-walking over document stores, notice that we get a lot of potential recommendations back (almost 11K) and must traverse over many user nodes (over 63K). And this is just a sample of the the total Microsoft dataset and we aren't leveraging historical click information at all."
   ]
  },
  {
   "cell_type": "markdown",
   "metadata": {},
   "source": [
    "For production use cases where recommendations will need to be queried frequently, this method will have trouble scaling as the number of users, amount of content, and/or observed engagement grows. We need some other strategy to help narrow down the results. There are a few different ways we can accomplish this, but one robust and scalable way to do so is with the Neo4j Graph Data Science (GDS) Library."
   ]
  },
  {
   "cell_type": "markdown",
   "metadata": {},
   "source": [
    "### Scaling CF with GDS: FastRP Node Embeddings and K-Nearest-Neighbor (KNN)\n",
    "\n",
    "With GDS we can use FastRP node embeddings to reduce the dimensionality of the problem then use an unsupervised machine learning technique called K-Nearest Neighbor (KNN) to identify and draw recommendations between news with similar/close embeddings. Because FastRP embeddings are based off the graph structure, news with similar embeddings should also be relatively connected in the graph via being clicked on by the same and similar users.\n",
    "\n",
    "### Graph Projection\n",
    "\n",
    "We will start with a graph projection leveraging the User and News nodes. It may be helpful to include all the News in this projection for the embeddings step and filter to just the RecentNews in the KNN step. User click activity on stale news still constitutes a significant portion of the graph structure and as such may help inform similarity inferences for more recent news in the KNN step.\n",
    "\n",
    "We will also include both historic and recent impression clicks, but we will give less weight to historic clicks so-as to favor more recent user activity. Lastly we will use an UNDIRECTED orientation so FastRP can traverse the graph bi-directionaly."
   ]
  },
  {
   "cell_type": "code",
   "execution_count": 16,
   "metadata": {},
   "outputs": [
    {
     "data": {
      "text/plain": [
       "[]"
      ]
     },
     "execution_count": 16,
     "metadata": {},
     "output_type": "execute_result"
    }
   ],
   "source": [
    "# Putting an index on a 'weight' attribute allows us to assign default values in the projection below\n",
    "\n",
    "run(driver,\"CREATE INDEX weight_index IF NOT EXISTS FOR ()-[r:CLICKED]-() ON (r.weight)\")"
   ]
  },
  {
   "cell_type": "code",
   "execution_count": 17,
   "metadata": {},
   "outputs": [
    {
     "data": {
      "text/plain": [
       "[<Record nodeCount=854585 relationshipCount=35078298 createMillis=21614>]"
      ]
     },
     "execution_count": 17,
     "metadata": {},
     "output_type": "execute_result"
    }
   ],
   "source": [
    "clear_graph(driver,'embedding_projection')\n",
    "run(driver,'''\n",
    "    CALL gds.graph.create(\n",
    "        'embedding-projection',\n",
    "        ['User','News'],\n",
    "        {\n",
    "            CLICKED:{\n",
    "                orientation:'UNDIRECTED',\n",
    "                properties:{weight:{property:'confidence',defaultValue: 1.0}}\n",
    "            },\n",
    "            HISTORICALLY_CLICKED:{\n",
    "                orientation:'UNDIRECTED',\n",
    "                properties:{weight: {property: 'confidence', defaultValue: 0.1}}\n",
    "            }\n",
    "        }\n",
    "    ) YIELD nodeCount, relationshipCount, createMillis\n",
    "    ''')"
   ]
  },
  {
   "cell_type": "markdown",
   "metadata": {},
   "source": [
    "### FastRP \n",
    "\n",
    "When running FastRP make sure to include the relationship weight property"
   ]
  },
  {
   "cell_type": "code",
   "execution_count": 18,
   "metadata": {},
   "outputs": [
    {
     "data": {
      "text/plain": [
       "[<Record nodePropertiesWritten=854585 computeMillis=72121>]"
      ]
     },
     "execution_count": 18,
     "metadata": {},
     "output_type": "execute_result"
    }
   ],
   "source": [
    "run(driver, '''\n",
    "    CALL gds.fastRP.mutate(\n",
    "        'embedding-projection',\n",
    "        {\n",
    "            mutateProperty: 'embedding',\n",
    "            embeddingDimension: 256,\n",
    "            randomSeed: 7474,\n",
    "            relationshipWeightProperty: 'weight'\n",
    "        }\n",
    "    ) YIELD nodePropertiesWritten, computeMillis\n",
    "    ''')"
   ]
  },
  {
   "cell_type": "markdown",
   "metadata": {},
   "source": [
    "While we should be able to do this all in one projection, depending on the GDS version you are using, I find it easiest to write the embeddings back to the database and create a seperate projection just for KNN."
   ]
  },
  {
   "cell_type": "code",
   "execution_count": 19,
   "metadata": {},
   "outputs": [
    {
     "data": {
      "text/plain": [
       "[<Record writeMillis=8572>]"
      ]
     },
     "execution_count": 19,
     "metadata": {},
     "output_type": "execute_result"
    }
   ],
   "source": [
    "run(driver, \n",
    "    'CALL gds.graph.writeNodeProperties(\"embedding-projection\", [\"embedding\"], [\"News\"]) YIELD writeMillis')"
   ]
  },
  {
   "cell_type": "markdown",
   "metadata": {},
   "source": [
    "If you are curious this is what the embeddings look like, they are just vectors of floating point numbers. In this case they are are 256 numbers long as specified in the embeddingDimension parameter above."
   ]
  },
  {
   "cell_type": "code",
   "execution_count": 20,
   "metadata": {},
   "outputs": [
    {
     "data": {
      "text/html": [
       "<div>\n",
       "<style scoped>\n",
       "    .dataframe tbody tr th:only-of-type {\n",
       "        vertical-align: middle;\n",
       "    }\n",
       "\n",
       "    .dataframe tbody tr th {\n",
       "        vertical-align: top;\n",
       "    }\n",
       "\n",
       "    .dataframe thead th {\n",
       "        text-align: right;\n",
       "    }\n",
       "</style>\n",
       "<table border=\"1\" class=\"dataframe\">\n",
       "  <thead>\n",
       "    <tr style=\"text-align: right;\">\n",
       "      <th></th>\n",
       "      <th>n.newsId</th>\n",
       "      <th>n.embedding</th>\n",
       "    </tr>\n",
       "  </thead>\n",
       "  <tbody>\n",
       "    <tr>\n",
       "      <th>0</th>\n",
       "      <td>N88753</td>\n",
       "      <td>[0.10630621016025543, 0.1723296046257019, -0.1171380877494812, -0.027835553511977196, -0.06641528010368347, 0.050111472606658936, 0.13987809419631958, -0.20932944118976593, 0.037883609533309937, 0.11861197650432587, -0.0540100634098053, -0.15462569892406464, 0.01632661372423172, 0.1190885603427887, -0.038970254361629486, 0.05449594184756279, -0.06486023962497711, -0.06124558299779892, 0.09067649394273758, 0.02814491093158722, -0.14549580216407776, 0.27434930205345154, 0.17065730690956116, 0....</td>\n",
       "    </tr>\n",
       "    <tr>\n",
       "      <th>1</th>\n",
       "      <td>N99744</td>\n",
       "      <td>[-0.08940579742193222, -0.0877138003706932, 0.011865537613630295, -0.10249189287424088, -0.16452105343341827, 0.067889004945755, 0.07351496815681458, -0.052973464131355286, 0.06831543147563934, -0.05956796184182167, 0.01696055568754673, -0.023166801780462265, 0.0159124955534935, 0.04748855158686638, 0.06959734857082367, 0.1891995668411255, -0.018619973212480545, -0.1406448930501938, 0.06486804038286209, 0.02959534339606762, 0.07380983233451843, 0.15983541309833527, 0.054380059242248535, 0.01...</td>\n",
       "    </tr>\n",
       "    <tr>\n",
       "      <th>2</th>\n",
       "      <td>N17957</td>\n",
       "      <td>[0.13875526189804077, -0.23850542306900024, 0.0017147976905107498, -0.07496193051338196, -0.18084552884101868, -0.014842554926872253, 0.08821369707584381, -0.13480810821056366, 0.09693685173988342, 0.058435942977666855, -0.09078291803598404, -0.1293138563632965, 0.0802997499704361, 0.04764147475361824, 0.025296352803707123, 0.1664532721042633, 0.11257122457027435, -0.06640289723873138, -0.026818327605724335, 0.1013699471950531, -0.0796460211277008, 0.13696950674057007, 0.06526796519756317, -...</td>\n",
       "    </tr>\n",
       "  </tbody>\n",
       "</table>\n",
       "</div>"
      ],
      "text/plain": [
       "  n.newsId  \\\n",
       "0   N88753   \n",
       "1   N99744   \n",
       "2   N17957   \n",
       "\n",
       "                                                                                                                                                                                                                                                                                                                                                                                                                                                                                                           n.embedding  \n",
       "0  [0.10630621016025543, 0.1723296046257019, -0.1171380877494812, -0.027835553511977196, -0.06641528010368347, 0.050111472606658936, 0.13987809419631958, -0.20932944118976593, 0.037883609533309937, 0.11861197650432587, -0.0540100634098053, -0.15462569892406464, 0.01632661372423172, 0.1190885603427887, -0.038970254361629486, 0.05449594184756279, -0.06486023962497711, -0.06124558299779892, 0.09067649394273758, 0.02814491093158722, -0.14549580216407776, 0.27434930205345154, 0.17065730690956116, 0....  \n",
       "1  [-0.08940579742193222, -0.0877138003706932, 0.011865537613630295, -0.10249189287424088, -0.16452105343341827, 0.067889004945755, 0.07351496815681458, -0.052973464131355286, 0.06831543147563934, -0.05956796184182167, 0.01696055568754673, -0.023166801780462265, 0.0159124955534935, 0.04748855158686638, 0.06959734857082367, 0.1891995668411255, -0.018619973212480545, -0.1406448930501938, 0.06486804038286209, 0.02959534339606762, 0.07380983233451843, 0.15983541309833527, 0.054380059242248535, 0.01...  \n",
       "2  [0.13875526189804077, -0.23850542306900024, 0.0017147976905107498, -0.07496193051338196, -0.18084552884101868, -0.014842554926872253, 0.08821369707584381, -0.13480810821056366, 0.09693685173988342, 0.058435942977666855, -0.09078291803598404, -0.1293138563632965, 0.0802997499704361, 0.04764147475361824, 0.025296352803707123, 0.1664532721042633, 0.11257122457027435, -0.06640289723873138, -0.026818327605724335, 0.1013699471950531, -0.0796460211277008, 0.13696950674057007, 0.06526796519756317, -...  "
      ]
     },
     "execution_count": 20,
     "metadata": {},
     "output_type": "execute_result"
    }
   ],
   "source": [
    "result = run(driver,'MATCH (n:RecentNews) RETURN n.newsId,n.embedding LIMIT 3')\n",
    "\n",
    "pd.DataFrame([dict(record) for record in result])"
   ]
  },
  {
   "cell_type": "markdown",
   "metadata": {},
   "source": [
    "### KNN \n",
    "\n",
    "We can now run KNN to estimate similarity (a.k.a. USERS_ALSO_LIKED) relationships between RecentNews articles and write them back to the graph."
   ]
  },
  {
   "cell_type": "code",
   "execution_count": 21,
   "metadata": {},
   "outputs": [
    {
     "data": {
      "text/plain": [
       "[<Record nodeCount=21858 relationshipCount=0 createMillis=7340>]"
      ]
     },
     "execution_count": 21,
     "metadata": {},
     "output_type": "execute_result"
    }
   ],
   "source": [
    "clear_graph(driver, 'cf-projection')\n",
    "run(driver, '''\n",
    "    CALL gds.graph.create(\n",
    "        'cf-projection',\n",
    "        {RecentNews:{properties:['embedding']}},\n",
    "        ['*']\n",
    "    ) YIELD nodeCount, relationshipCount, createMillis\n",
    "    ''')"
   ]
  },
  {
   "cell_type": "code",
   "execution_count": 25,
   "metadata": {},
   "outputs": [],
   "source": [
    "results = run(driver, '''\n",
    "    CALL gds.beta.knn.write('cf-projection', {\n",
    "        nodeLabels: ['RecentNews'],\n",
    "        nodeWeightProperty: 'embedding',\n",
    "        writeRelationshipType: 'USERS_ALSO_LIKED',\n",
    "        writeProperty: 'score',\n",
    "        sampleRate: 1.0,\n",
    "        maxIterations: 1000\n",
    "    }) YIELD computeMillis, \n",
    "        writeMillis, \n",
    "        nodesCompared, \n",
    "        relationshipsWritten, \n",
    "        similarityDistribution\n",
    "    ''')"
   ]
  },
  {
   "cell_type": "code",
   "execution_count": 26,
   "metadata": {},
   "outputs": [
    {
     "data": {
      "text/html": [
       "<div>\n",
       "<style scoped>\n",
       "    .dataframe tbody tr th:only-of-type {\n",
       "        vertical-align: middle;\n",
       "    }\n",
       "\n",
       "    .dataframe tbody tr th {\n",
       "        vertical-align: top;\n",
       "    }\n",
       "\n",
       "    .dataframe thead th {\n",
       "        text-align: right;\n",
       "    }\n",
       "</style>\n",
       "<table border=\"1\" class=\"dataframe\">\n",
       "  <thead>\n",
       "    <tr style=\"text-align: right;\">\n",
       "      <th></th>\n",
       "      <th>computeMillis</th>\n",
       "      <th>writeMillis</th>\n",
       "      <th>nodesCompared</th>\n",
       "      <th>relationshipsWritten</th>\n",
       "      <th>similarityDistribution</th>\n",
       "    </tr>\n",
       "  </thead>\n",
       "  <tbody>\n",
       "    <tr>\n",
       "      <th>0</th>\n",
       "      <td>10858</td>\n",
       "      <td>6130</td>\n",
       "      <td>21858</td>\n",
       "      <td>218580</td>\n",
       "      <td>{'p1': 0.17052125930786133, 'max': 1.000007152557373, 'p5': 0.22844552993774414, 'p90': 0.7283358573913574, 'p50': 0.45830488204956055, 'p95': 0.8771548271179199, 'p10': 0.27092504501342773, 'p75': 0.5615077018737793, 'p99': 0.9319605827331543, 'p25': 0.35613584518432617, 'p100': 1.000007152557373, 'min': 0.10453462600708008, 'mean': 0.47775153707351914, 'stdDev': 0.1760123157028363}</td>\n",
       "    </tr>\n",
       "  </tbody>\n",
       "</table>\n",
       "</div>"
      ],
      "text/plain": [
       "   computeMillis  writeMillis  nodesCompared  relationshipsWritten  \\\n",
       "0          10858         6130          21858                218580   \n",
       "\n",
       "                                                                                                                                                                                                                                                                                                                                                                               similarityDistribution  \n",
       "0  {'p1': 0.17052125930786133, 'max': 1.000007152557373, 'p5': 0.22844552993774414, 'p90': 0.7283358573913574, 'p50': 0.45830488204956055, 'p95': 0.8771548271179199, 'p10': 0.27092504501342773, 'p75': 0.5615077018737793, 'p99': 0.9319605827331543, 'p25': 0.35613584518432617, 'p100': 1.000007152557373, 'min': 0.10453462600708008, 'mean': 0.47775153707351914, 'stdDev': 0.1760123157028363}  "
      ]
     },
     "execution_count": 26,
     "metadata": {},
     "output_type": "execute_result"
    }
   ],
   "source": [
    "pd.DataFrame([dict(record) for record in results]) "
   ]
  },
  {
   "cell_type": "code",
   "execution_count": 27,
   "metadata": {},
   "outputs": [
    {
     "data": {
      "text/html": [
       "<div>\n",
       "<style scoped>\n",
       "    .dataframe tbody tr th:only-of-type {\n",
       "        vertical-align: middle;\n",
       "    }\n",
       "\n",
       "    .dataframe tbody tr th {\n",
       "        vertical-align: top;\n",
       "    }\n",
       "\n",
       "    .dataframe thead th {\n",
       "        text-align: right;\n",
       "    }\n",
       "</style>\n",
       "<table border=\"1\" class=\"dataframe\">\n",
       "  <thead>\n",
       "    <tr style=\"text-align: right;\">\n",
       "      <th></th>\n",
       "      <th>computeMillis</th>\n",
       "      <th>writeMillis</th>\n",
       "      <th>nodesCompared</th>\n",
       "      <th>relationshipsWritten</th>\n",
       "    </tr>\n",
       "  </thead>\n",
       "  <tbody>\n",
       "    <tr>\n",
       "      <th>0</th>\n",
       "      <td>10858</td>\n",
       "      <td>6130</td>\n",
       "      <td>21858</td>\n",
       "      <td>218580</td>\n",
       "    </tr>\n",
       "  </tbody>\n",
       "</table>\n",
       "</div>"
      ],
      "text/plain": [
       "   computeMillis  writeMillis  nodesCompared  relationshipsWritten\n",
       "0          10858         6130          21858                218580"
      ]
     },
     "execution_count": 27,
     "metadata": {},
     "output_type": "execute_result"
    }
   ],
   "source": [
    "pd.DataFrame([dict(record) for record in results]).drop(columns='similarityDistribution')"
   ]
  },
  {
   "cell_type": "code",
   "execution_count": 28,
   "metadata": {},
   "outputs": [
    {
     "data": {
      "text/html": [
       "<div>\n",
       "<style scoped>\n",
       "    .dataframe tbody tr th:only-of-type {\n",
       "        vertical-align: middle;\n",
       "    }\n",
       "\n",
       "    .dataframe tbody tr th {\n",
       "        vertical-align: top;\n",
       "    }\n",
       "\n",
       "    .dataframe thead th {\n",
       "        text-align: right;\n",
       "    }\n",
       "</style>\n",
       "<table border=\"1\" class=\"dataframe\">\n",
       "  <thead>\n",
       "    <tr style=\"text-align: right;\">\n",
       "      <th></th>\n",
       "      <th>similarityDistribution</th>\n",
       "    </tr>\n",
       "  </thead>\n",
       "  <tbody>\n",
       "    <tr>\n",
       "      <th>max</th>\n",
       "      <td>1.000007</td>\n",
       "    </tr>\n",
       "    <tr>\n",
       "      <th>mean</th>\n",
       "      <td>0.477752</td>\n",
       "    </tr>\n",
       "    <tr>\n",
       "      <th>min</th>\n",
       "      <td>0.104535</td>\n",
       "    </tr>\n",
       "    <tr>\n",
       "      <th>p1</th>\n",
       "      <td>0.170521</td>\n",
       "    </tr>\n",
       "    <tr>\n",
       "      <th>p10</th>\n",
       "      <td>0.270925</td>\n",
       "    </tr>\n",
       "    <tr>\n",
       "      <th>...</th>\n",
       "      <td>...</td>\n",
       "    </tr>\n",
       "    <tr>\n",
       "      <th>p75</th>\n",
       "      <td>0.561508</td>\n",
       "    </tr>\n",
       "    <tr>\n",
       "      <th>p90</th>\n",
       "      <td>0.728336</td>\n",
       "    </tr>\n",
       "    <tr>\n",
       "      <th>p95</th>\n",
       "      <td>0.877155</td>\n",
       "    </tr>\n",
       "    <tr>\n",
       "      <th>p99</th>\n",
       "      <td>0.931961</td>\n",
       "    </tr>\n",
       "    <tr>\n",
       "      <th>stdDev</th>\n",
       "      <td>0.176012</td>\n",
       "    </tr>\n",
       "  </tbody>\n",
       "</table>\n",
       "<p>14 rows × 1 columns</p>\n",
       "</div>"
      ],
      "text/plain": [
       "        similarityDistribution\n",
       "max                   1.000007\n",
       "mean                  0.477752\n",
       "min                   0.104535\n",
       "p1                    0.170521\n",
       "p10                   0.270925\n",
       "...                        ...\n",
       "p75                   0.561508\n",
       "p90                   0.728336\n",
       "p95                   0.877155\n",
       "p99                   0.931961\n",
       "stdDev                0.176012\n",
       "\n",
       "[14 rows x 1 columns]"
      ]
     },
     "execution_count": 28,
     "metadata": {},
     "output_type": "execute_result"
    }
   ],
   "source": [
    "pd.DataFrame({'similarityDistribution':results[0].get('similarityDistribution')})"
   ]
  },
  {
   "cell_type": "markdown",
   "metadata": {},
   "source": [
    "This is a helpful distribution to check. In this case it looks reasonably healthy. If you see a lot of zeros going into higher percentiles it is a sign that KNN was not able to find many similarities. A lack of variance in your scores between percentiles can also signal a lack of variance in your node weight properties."
   ]
  },
  {
   "cell_type": "markdown",
   "metadata": {},
   "source": [
    "### Collaborative Filtering with USER_ALSO_LIKED Relationships\n",
    "\n",
    "Now we can structure a Collaborative filtering query for user U218584 but with\n",
    "\n",
    "1. more refined results,\n",
    "2. using less traversal steps, and\n",
    "3. with a score from KNN that allows us to rank order the results based on aggregate similarity"
   ]
  },
  {
   "cell_type": "code",
   "execution_count": 30,
   "metadata": {},
   "outputs": [
    {
     "data": {
      "text/html": [
       "<div>\n",
       "<style scoped>\n",
       "    .dataframe tbody tr th:only-of-type {\n",
       "        vertical-align: middle;\n",
       "    }\n",
       "\n",
       "    .dataframe tbody tr th {\n",
       "        vertical-align: top;\n",
       "    }\n",
       "\n",
       "    .dataframe thead th {\n",
       "        text-align: right;\n",
       "    }\n",
       "</style>\n",
       "<table border=\"1\" class=\"dataframe\">\n",
       "  <thead>\n",
       "    <tr style=\"text-align: right;\">\n",
       "      <th></th>\n",
       "      <th>newsId</th>\n",
       "      <th>title</th>\n",
       "      <th>category</th>\n",
       "      <th>subcategory</th>\n",
       "      <th>totalScore</th>\n",
       "    </tr>\n",
       "  </thead>\n",
       "  <tbody>\n",
       "    <tr>\n",
       "      <th>0</th>\n",
       "      <td>N81058</td>\n",
       "      <td>New Mexico game vs. Air Force rescheduled after lineman Nahje Flowers' death</td>\n",
       "      <td>sports</td>\n",
       "      <td>football_ncaa</td>\n",
       "      <td>0.778624</td>\n",
       "    </tr>\n",
       "    <tr>\n",
       "      <th>1</th>\n",
       "      <td>N26968</td>\n",
       "      <td>'Beautiful boys': Victims in Mexico ambush remembered at funerals</td>\n",
       "      <td>news</td>\n",
       "      <td>newsworld</td>\n",
       "      <td>0.746406</td>\n",
       "    </tr>\n",
       "    <tr>\n",
       "      <th>2</th>\n",
       "      <td>N107322</td>\n",
       "      <td>Reality television star Kevin O'Leary and his wife were sued Wednesday for wrongful deaths in a boat crash in Canada's backwoods.</td>\n",
       "      <td>tv</td>\n",
       "      <td>tv-celebrity</td>\n",
       "      <td>0.745013</td>\n",
       "    </tr>\n",
       "    <tr>\n",
       "      <th>3</th>\n",
       "      <td>N126027</td>\n",
       "      <td>Woman accused of embezzling from Camp Fire victim surrenders</td>\n",
       "      <td>news</td>\n",
       "      <td>newscrime</td>\n",
       "      <td>0.739930</td>\n",
       "    </tr>\n",
       "    <tr>\n",
       "      <th>4</th>\n",
       "      <td>N86231</td>\n",
       "      <td>New images capture missing college student on night she vanished</td>\n",
       "      <td>news</td>\n",
       "      <td>newsus</td>\n",
       "      <td>0.735460</td>\n",
       "    </tr>\n",
       "    <tr>\n",
       "      <th>...</th>\n",
       "      <td>...</td>\n",
       "      <td>...</td>\n",
       "      <td>...</td>\n",
       "      <td>...</td>\n",
       "      <td>...</td>\n",
       "    </tr>\n",
       "    <tr>\n",
       "      <th>55</th>\n",
       "      <td>N36397</td>\n",
       "      <td>Here's how much house flippers actually make</td>\n",
       "      <td>finance</td>\n",
       "      <td>finance-real-estate</td>\n",
       "      <td>0.461674</td>\n",
       "    </tr>\n",
       "    <tr>\n",
       "      <th>56</th>\n",
       "      <td>N8427</td>\n",
       "      <td>11 surprising things you didn't know about Olive Garden</td>\n",
       "      <td>foodanddrink</td>\n",
       "      <td>restaurantsandnews</td>\n",
       "      <td>0.461314</td>\n",
       "    </tr>\n",
       "    <tr>\n",
       "      <th>57</th>\n",
       "      <td>N116989</td>\n",
       "      <td>Celeb couples with big age gaps</td>\n",
       "      <td>entertainment</td>\n",
       "      <td>celebrity</td>\n",
       "      <td>0.457643</td>\n",
       "    </tr>\n",
       "    <tr>\n",
       "      <th>58</th>\n",
       "      <td>N54031</td>\n",
       "      <td>Kelly Clarkson Channels Hocus Pocus for a Spellbinding Performance</td>\n",
       "      <td>tv</td>\n",
       "      <td>tvnews</td>\n",
       "      <td>0.457606</td>\n",
       "    </tr>\n",
       "    <tr>\n",
       "      <th>59</th>\n",
       "      <td>N66044</td>\n",
       "      <td>Jane Fonda spends night in jail after latest climate change protest</td>\n",
       "      <td>movies</td>\n",
       "      <td>movies-celebrity</td>\n",
       "      <td>0.457537</td>\n",
       "    </tr>\n",
       "  </tbody>\n",
       "</table>\n",
       "<p>60 rows × 5 columns</p>\n",
       "</div>"
      ],
      "text/plain": [
       "     newsId  \\\n",
       "0    N81058   \n",
       "1    N26968   \n",
       "2   N107322   \n",
       "3   N126027   \n",
       "4    N86231   \n",
       "..      ...   \n",
       "55   N36397   \n",
       "56    N8427   \n",
       "57  N116989   \n",
       "58   N54031   \n",
       "59   N66044   \n",
       "\n",
       "                                                                                                                                title  \\\n",
       "0                                                        New Mexico game vs. Air Force rescheduled after lineman Nahje Flowers' death   \n",
       "1                                                                   'Beautiful boys': Victims in Mexico ambush remembered at funerals   \n",
       "2   Reality television star Kevin O'Leary and his wife were sued Wednesday for wrongful deaths in a boat crash in Canada's backwoods.   \n",
       "3                                                                        Woman accused of embezzling from Camp Fire victim surrenders   \n",
       "4                                                                    New images capture missing college student on night she vanished   \n",
       "..                                                                                                                                ...   \n",
       "55                                                                                       Here's how much house flippers actually make   \n",
       "56                                                                            11 surprising things you didn't know about Olive Garden   \n",
       "57                                                                                                    Celeb couples with big age gaps   \n",
       "58                                                                 Kelly Clarkson Channels Hocus Pocus for a Spellbinding Performance   \n",
       "59                                                                Jane Fonda spends night in jail after latest climate change protest   \n",
       "\n",
       "         category          subcategory  totalScore  \n",
       "0          sports        football_ncaa    0.778624  \n",
       "1            news            newsworld    0.746406  \n",
       "2              tv         tv-celebrity    0.745013  \n",
       "3            news            newscrime    0.739930  \n",
       "4            news               newsus    0.735460  \n",
       "..            ...                  ...         ...  \n",
       "55        finance  finance-real-estate    0.461674  \n",
       "56   foodanddrink   restaurantsandnews    0.461314  \n",
       "57  entertainment            celebrity    0.457643  \n",
       "58             tv               tvnews    0.457606  \n",
       "59         movies     movies-celebrity    0.457537  \n",
       "\n",
       "[60 rows x 5 columns]"
      ]
     },
     "execution_count": 30,
     "metadata": {},
     "output_type": "execute_result"
    }
   ],
   "source": [
    "result = run(driver, '''\n",
    "    MATCH(u:User {userId: $userId})-[:CLICKED]->(n:RecentNews)\n",
    "    WITH collect(id(n)) AS clickedNewsIds\n",
    "\n",
    "    //get similar News according to KNN and exclude previously clicked news\n",
    "    MATCH (clickedNews)-[s:USERS_ALSO_LIKED]->(similarNews:News)\n",
    "    WHERE id(clickedNews) IN clickedNewsIds AND NOT id(similarNews) IN clickedNewsIds\n",
    "\n",
    "    //aggregate and return ranked results\n",
    "    RETURN DISTINCT similarNews.newsId as newsId, \n",
    "        similarNews.title AS title, \n",
    "        similarNews.category AS category,\n",
    "        similarNews.subcategory As subcategory,\n",
    "        sum(s.score) AS totalScore ORDER BY totalScore DESC\n",
    "    ''', params={'userId': USER_ID})\n",
    "pd.DataFrame([dict(record) for record in result])"
   ]
  },
  {
   "cell_type": "markdown",
   "metadata": {},
   "source": [
    "We cut back her to 59 results from the previous almost 11K with pure Cypher."
   ]
  },
  {
   "cell_type": "markdown",
   "metadata": {},
   "source": [
    "### Recommendations Based on Latest Viewed Content\n",
    "\n",
    "A nice thing about using this type of Item-based CF with graph is that it is easy to change the range of news articles considered for recommendations. \n",
    "\n",
    "For example, it may not be ideal to use the entire user history to generate recommendations if user interests change dynamically overtime. In some instances of content recommendation, the current or latest viewed piece of content may be the best signal for what to recommend next. If we wanted to focus our recommendations in this way, we can easily adjust our cypher query to do so.\n",
    "\n",
    "We can grab the latest clicked news article for the user like so"
   ]
  },
  {
   "cell_type": "code",
   "execution_count": 31,
   "metadata": {},
   "outputs": [
    {
     "data": {
      "text/html": [
       "<div>\n",
       "<style scoped>\n",
       "    .dataframe tbody tr th:only-of-type {\n",
       "        vertical-align: middle;\n",
       "    }\n",
       "\n",
       "    .dataframe tbody tr th {\n",
       "        vertical-align: top;\n",
       "    }\n",
       "\n",
       "    .dataframe thead th {\n",
       "        text-align: right;\n",
       "    }\n",
       "</style>\n",
       "<table border=\"1\" class=\"dataframe\">\n",
       "  <thead>\n",
       "    <tr style=\"text-align: right;\">\n",
       "      <th></th>\n",
       "      <th>newsId</th>\n",
       "      <th>title</th>\n",
       "      <th>category</th>\n",
       "      <th>subcategory</th>\n",
       "      <th>impressionTime</th>\n",
       "    </tr>\n",
       "  </thead>\n",
       "  <tbody>\n",
       "    <tr>\n",
       "      <th>0</th>\n",
       "      <td>N110709</td>\n",
       "      <td>2020 Ford Mustang Shelby GT350 vs. GT500: Which Is the Better Sports Car?</td>\n",
       "      <td>autos</td>\n",
       "      <td>autosenthusiasts</td>\n",
       "      <td>2019-11-15T05:48:40.000000000+00:00</td>\n",
       "    </tr>\n",
       "  </tbody>\n",
       "</table>\n",
       "</div>"
      ],
      "text/plain": [
       "    newsId  \\\n",
       "0  N110709   \n",
       "\n",
       "                                                                       title  \\\n",
       "0  2020 Ford Mustang Shelby GT350 vs. GT500: Which Is the Better Sports Car?   \n",
       "\n",
       "  category       subcategory                       impressionTime  \n",
       "0    autos  autosenthusiasts  2019-11-15T05:48:40.000000000+00:00  "
      ]
     },
     "execution_count": 31,
     "metadata": {},
     "output_type": "execute_result"
    }
   ],
   "source": [
    "result = run(driver,'''\n",
    "    MATCH (u:User {userId:$userId})-[r:CLICKED]->(:RecentNews) \n",
    "    WITH u, max(r.impressionTime) AS maxImpressionTime\n",
    "    MATCH (u)-[r:CLICKED]->(n:RecentNews) \n",
    "    WHERE r.impressionTime = maxImpressionTime\n",
    "    RETURN n.newsId as newsId, \n",
    "        n.title AS title, \n",
    "        n.category AS category,\n",
    "        n.subcategory As subcategory,\n",
    "        r.impressionTime AS impressionTime\n",
    "    ''', params={'userId': USER_ID})\n",
    "df = pd.DataFrame([dict(record) for record in result])\n",
    "df"
   ]
  },
  {
   "cell_type": "markdown",
   "metadata": {},
   "source": [
    "And add the logic to our single CF query to obtain recommendations based of that last clicked article"
   ]
  },
  {
   "cell_type": "code",
   "execution_count": 32,
   "metadata": {},
   "outputs": [
    {
     "data": {
      "text/html": [
       "<div>\n",
       "<style scoped>\n",
       "    .dataframe tbody tr th:only-of-type {\n",
       "        vertical-align: middle;\n",
       "    }\n",
       "\n",
       "    .dataframe tbody tr th {\n",
       "        vertical-align: top;\n",
       "    }\n",
       "\n",
       "    .dataframe thead th {\n",
       "        text-align: right;\n",
       "    }\n",
       "</style>\n",
       "<table border=\"1\" class=\"dataframe\">\n",
       "  <thead>\n",
       "    <tr style=\"text-align: right;\">\n",
       "      <th></th>\n",
       "      <th>newsId</th>\n",
       "      <th>title</th>\n",
       "      <th>abstract</th>\n",
       "      <th>category</th>\n",
       "      <th>subcategory</th>\n",
       "      <th>totalScore</th>\n",
       "    </tr>\n",
       "  </thead>\n",
       "  <tbody>\n",
       "    <tr>\n",
       "      <th>0</th>\n",
       "      <td>N129143</td>\n",
       "      <td>2020 Shelby GT500 Aero Performance &amp; Cooling</td>\n",
       "      <td>Supercomputers and 3-D Printing are secrets to the all-new Mustang Shelby GT500's high performance.</td>\n",
       "      <td>autos</td>\n",
       "      <td>autosenthusiasts</td>\n",
       "      <td>0.671356</td>\n",
       "    </tr>\n",
       "    <tr>\n",
       "      <th>1</th>\n",
       "      <td>N119103</td>\n",
       "      <td>Ford Reveals Acceleration Times for 760-HP Mustang Shelby GT500</td>\n",
       "      <td>The 2020 Shelby GT500 is the quickest production Mustang ever.</td>\n",
       "      <td>autos</td>\n",
       "      <td>autossports</td>\n",
       "      <td>0.646829</td>\n",
       "    </tr>\n",
       "    <tr>\n",
       "      <th>2</th>\n",
       "      <td>N33779</td>\n",
       "      <td>The McLaren Senna is Faster 0-100-0 Than These Fast Cars Are 0-100</td>\n",
       "      <td>Putting the mighty McLaren's stupendous performance into context</td>\n",
       "      <td>autos</td>\n",
       "      <td>autosenthusiasts</td>\n",
       "      <td>0.633273</td>\n",
       "    </tr>\n",
       "    <tr>\n",
       "      <th>3</th>\n",
       "      <td>N26315</td>\n",
       "      <td>Why the 2020 Ford Mustang Shelby GT500's Carbon Wheels Are Superior to the GT350R's</td>\n",
       "      <td>It's more than just looks, although they are beautiful: the carbon-fiber wheels are as advanced as those on a Ferrari.</td>\n",
       "      <td>autos</td>\n",
       "      <td>autossports</td>\n",
       "      <td>0.627339</td>\n",
       "    </tr>\n",
       "    <tr>\n",
       "      <th>4</th>\n",
       "      <td>N123575</td>\n",
       "      <td>First Drive! 2020 Shelby GT500 Is an Apex Predator, Turning Drivers Into Track Stars</td>\n",
       "      <td>Driving the 2020 Shelby GT500 on the street, dragstrip, and road course reveals an apex predator that turns any driver into a track star.</td>\n",
       "      <td>autos</td>\n",
       "      <td>autosreview</td>\n",
       "      <td>0.620160</td>\n",
       "    </tr>\n",
       "    <tr>\n",
       "      <th>5</th>\n",
       "      <td>N90096</td>\n",
       "      <td>This Honda F1 V-10 Is the Perfect Engine for Your Dream Swap</td>\n",
       "      <td>All yours for the low, low price of $12,200.</td>\n",
       "      <td>autos</td>\n",
       "      <td>autosenthusiasts</td>\n",
       "      <td>0.612796</td>\n",
       "    </tr>\n",
       "    <tr>\n",
       "      <th>6</th>\n",
       "      <td>N37923</td>\n",
       "      <td>Porsche's 718 Cayman Fits More Cargo Than the 2020 Chevrolet Corvette</td>\n",
       "      <td>The new mid-engined Corvette holds one less carry-on suitcase, but it has space for two sets of golf clubs.</td>\n",
       "      <td>autos</td>\n",
       "      <td>autossports</td>\n",
       "      <td>0.612380</td>\n",
       "    </tr>\n",
       "    <tr>\n",
       "      <th>7</th>\n",
       "      <td>N65908</td>\n",
       "      <td>This 1965 Ford Mustang Fastback On A Ford Bronco Frame May Be The Most American Car Ever</td>\n",
       "      <td>The Frankensteinian result may be the pinnacle of four-wheeled Americana.</td>\n",
       "      <td>autos</td>\n",
       "      <td>autosenthusiasts</td>\n",
       "      <td>0.601105</td>\n",
       "    </tr>\n",
       "    <tr>\n",
       "      <th>8</th>\n",
       "      <td>N82815</td>\n",
       "      <td>The Corvette C5.R Race Car Makes a Brutal V-8 Noise</td>\n",
       "      <td>V-8s don't get any better than this.</td>\n",
       "      <td>autos</td>\n",
       "      <td>autosenthusiasts</td>\n",
       "      <td>0.600928</td>\n",
       "    </tr>\n",
       "    <tr>\n",
       "      <th>9</th>\n",
       "      <td>N35480</td>\n",
       "      <td>2020 Toyota Supra GT4 details announced, makes 429 horsepower</td>\n",
       "      <td>It goes on sale next year</td>\n",
       "      <td>autos</td>\n",
       "      <td>autosenthusiasts</td>\n",
       "      <td>0.598973</td>\n",
       "    </tr>\n",
       "  </tbody>\n",
       "</table>\n",
       "</div>"
      ],
      "text/plain": [
       "    newsId  \\\n",
       "0  N129143   \n",
       "1  N119103   \n",
       "2   N33779   \n",
       "3   N26315   \n",
       "4  N123575   \n",
       "5   N90096   \n",
       "6   N37923   \n",
       "7   N65908   \n",
       "8   N82815   \n",
       "9   N35480   \n",
       "\n",
       "                                                                                      title  \\\n",
       "0                                              2020 Shelby GT500 Aero Performance & Cooling   \n",
       "1                           Ford Reveals Acceleration Times for 760-HP Mustang Shelby GT500   \n",
       "2                        The McLaren Senna is Faster 0-100-0 Than These Fast Cars Are 0-100   \n",
       "3       Why the 2020 Ford Mustang Shelby GT500's Carbon Wheels Are Superior to the GT350R's   \n",
       "4      First Drive! 2020 Shelby GT500 Is an Apex Predator, Turning Drivers Into Track Stars   \n",
       "5                              This Honda F1 V-10 Is the Perfect Engine for Your Dream Swap   \n",
       "6                     Porsche's 718 Cayman Fits More Cargo Than the 2020 Chevrolet Corvette   \n",
       "7  This 1965 Ford Mustang Fastback On A Ford Bronco Frame May Be The Most American Car Ever   \n",
       "8                                       The Corvette C5.R Race Car Makes a Brutal V-8 Noise   \n",
       "9                             2020 Toyota Supra GT4 details announced, makes 429 horsepower   \n",
       "\n",
       "                                                                                                                                    abstract  \\\n",
       "0                                        Supercomputers and 3-D Printing are secrets to the all-new Mustang Shelby GT500's high performance.   \n",
       "1                                                                             The 2020 Shelby GT500 is the quickest production Mustang ever.   \n",
       "2                                                                           Putting the mighty McLaren's stupendous performance into context   \n",
       "3                     It's more than just looks, although they are beautiful: the carbon-fiber wheels are as advanced as those on a Ferrari.   \n",
       "4  Driving the 2020 Shelby GT500 on the street, dragstrip, and road course reveals an apex predator that turns any driver into a track star.   \n",
       "5                                                                                               All yours for the low, low price of $12,200.   \n",
       "6                                The new mid-engined Corvette holds one less carry-on suitcase, but it has space for two sets of golf clubs.   \n",
       "7                                                                  The Frankensteinian result may be the pinnacle of four-wheeled Americana.   \n",
       "8                                                                                                       V-8s don't get any better than this.   \n",
       "9                                                                                                                  It goes on sale next year   \n",
       "\n",
       "  category       subcategory  totalScore  \n",
       "0    autos  autosenthusiasts    0.671356  \n",
       "1    autos       autossports    0.646829  \n",
       "2    autos  autosenthusiasts    0.633273  \n",
       "3    autos       autossports    0.627339  \n",
       "4    autos       autosreview    0.620160  \n",
       "5    autos  autosenthusiasts    0.612796  \n",
       "6    autos       autossports    0.612380  \n",
       "7    autos  autosenthusiasts    0.601105  \n",
       "8    autos  autosenthusiasts    0.600928  \n",
       "9    autos  autosenthusiasts    0.598973  "
      ]
     },
     "execution_count": 32,
     "metadata": {},
     "output_type": "execute_result"
    }
   ],
   "source": [
    "result = run(driver, '''\n",
    "    MATCH (u:User {userId:$userId})-[r:CLICKED]->(:RecentNews) \n",
    "    WITH u, max(r.impressionTime) AS maxImpressionTime\n",
    "    MATCH (u)-[r:CLICKED]->(n:RecentNews) \n",
    "    WHERE r.impressionTime = maxImpressionTime\n",
    "    WITH n\n",
    "    MATCH(n)-[s:USERS_ALSO_LIKED]->(similarNews:News)\n",
    "    RETURN DISTINCT similarNews.newsId as newsId,\n",
    "        similarNews.title AS title,\n",
    "        similarNews.abstract AS abstract,\n",
    "        similarNews.category AS category,\n",
    "        similarNews.subcategory As subcategory,\n",
    "        sum(s.score) AS totalScore\n",
    "        ORDER BY totalScore DESC\n",
    "    ''', params = {'userId': USER_ID})\n",
    "pd.DataFrame([dict(record) for record in result])"
   ]
  },
  {
   "cell_type": "markdown",
   "metadata": {},
   "source": [
    "Note that these are much narrowly focused around automobiles and the Ford GT500 and sport cars specifically.\n",
    "\n",
    "It will not always be the case that CF recommendations align to category, subcategory, and entities inside the articles to the extent that they are above because we aren't directly leveraging those properties…..at least not yet. Instead this CF is based on correlating user interests, and if you explore this dataset further you will find some categories/subcategories better correlated across user interests then others.\n",
    "\n",
    "This is a just another example for how, with GDS, we can leverage powerful graph analytics with only a few simple steps to scale a real-world use case.\n",
    "\n",
    "and always remember to clean up and close your driver connections! :)"
   ]
  },
  {
   "cell_type": "code",
   "execution_count": 33,
   "metadata": {},
   "outputs": [],
   "source": [
    "run(driver,'MATCH (n:RecentNews) REMOVE n.embedding')\n",
    "run(driver,'MATCH (:RecentNews)-[r:USERS_ALSO_LIKED]->() DELETE r')\n",
    "run(driver,'MATCH (n:RecentNews) REMOVE n:RecentNews')\n",
    "clear_graph(driver, 'embedding-projection')\n",
    "clear_graph(driver, 'cf-projection')\n",
    "driver.close()"
   ]
  }
 ],
 "metadata": {
  "interpreter": {
   "hash": "0c19afaa99479bb0e0dbcd16fdde31d36a0e55c591a4c81119846c25dd098350"
  },
  "kernelspec": {
   "display_name": "Python 3.9.9 64-bit (windows store)",
   "language": "python",
   "name": "python3"
  },
  "language_info": {
   "codemirror_mode": {
    "name": "ipython",
    "version": 3
   },
   "file_extension": ".py",
   "mimetype": "text/x-python",
   "name": "python",
   "nbconvert_exporter": "python",
   "pygments_lexer": "ipython3",
   "version": "3.8.8"
  },
  "orig_nbformat": 4
 },
 "nbformat": 4,
 "nbformat_minor": 2
}
